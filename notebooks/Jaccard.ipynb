{
 "cells": [
  {
   "cell_type": "code",
   "execution_count": 3,
   "metadata": {},
   "outputs": [],
   "source": [
    "import sys\n",
    "sys.path.append(\"..\")\n",
    "from src.parser import Parser\n",
    "filepath = \"/Users/lievgarcia/Documents/nlp specialisation/header_extractor/document-headers/files/letter.json\"\n",
    "# filepath = \"/Users/lievgarcia/Documents/nlp specialisation/header_extractor/document-headers/files/nda.json\"\n",
    "parsed = Parser(filepath)\n"
   ]
  },
  {
   "cell_type": "code",
   "execution_count": 53,
   "metadata": {
    "scrolled": true
   },
   "outputs": [
    {
     "name": "stdout",
     "output_type": "stream",
     "text": [
      "{'p_id': 0, 'p_text': '', 'p_start_offset': 0}\n",
      "['name', 'of', 'recipient']\n",
      "['address']\n",
      "['date']\n",
      "['dear']\n",
      "['non', 'disclosure', 'of', 'confidential', 'information']\n",
      "['disclosure']\n",
      "5\n",
      "1 DISCLOSURE\n",
      "['in', 'consideration', 'of', 'our', 'disclosure', 'to', 'you', 'of', 'describe', 'confidential', 'information', 'and', 'other', 'information', 'whether', 'or', 'not', 'contained', 'in', 'documents', 'relating', 'to', 'this', 'information', 'protected', 'material', 'for', 'the', 'purposes', 'of', 'purpose', 'of', 'disclosure', 'purpose', 'you', 'will', 'keep', 'the', 'protected', 'material', 'confidential', 'accordingly', 'for', 'a', 'period', 'of', 'two', 'years', 'from', 'the', 'date', 'of', 'this', 'letter', 'you', 'will', 'not', 'without', 'our', 'prior', 'written', 'consent', 'either']\n",
      "['communicate', 'or', 'otherwise', 'make', 'available', 'the', 'protected', 'material', 'to', 'any', 'third', 'party', 'except', 'in', 'accordance', 'with', 'paragraph', 'or']\n",
      "['use', 'the', 'protected', 'material', 'for', 'any', 'purpose', 'other', 'than', 'the', 'purpose']\n",
      "8\n",
      "1.1.2 use the Protected Material for any purpose other than the Purpose.\n",
      "['you', 'may', 'disclose', 'the', 'protected', 'material', 'to', 'the', 'minimum', 'extent', 'required', 'by', 'any', 'order', 'of', 'any', 'competent', 'court', 'or', 'judicial', 'governmental', 'or', 'regulatory', 'body', 'or', 'the', 'laws', 'or', 'regulations', 'of', 'any', 'country', 'with', 'jurisdiction']\n",
      "['we', 'make', 'no', 'warranty', 'or', 'representation', 'as', 'to', 'the', 'accuracy', 'of', 'the', 'protected', 'material']\n",
      "['you', 'are', 'not', 'granted', 'or', 'assigned', 'directly', 'or', 'indirectly', 'any', 'rights', 'in', 'any', 'of', 'the', 'protected', 'information', 'nor', 'in', 'any', 'patent', 'trade', 'mark', 'copyright', 'or', 'any', 'other', 'intellectual', 'property', 'right', 'of', 'any', 'description']\n",
      "['limitations', 'on', 'obligations']\n",
      "12\n",
      "2 LIMITATIONS ON OBLIGATIONS\n",
      "['the', 'obligations', 'set', 'out', 'in', 'paragraph', 'shall', 'not', 'apply', 'or', 'shall', 'cease', 'to', 'apply', 'to', 'such', 'of', 'the', 'protected', 'material', 'as', 'you', 'can', 'show', 'to', 'our', 'reasonable', 'satisfaction']\n",
      "['has', 'become', 'public', 'knowledge', 'other', 'than', 'through', 'disclosure', 'by', 'you', 'in', 'breach', 'of', 'this', 'agreement', 'or']\n",
      "['was', 'already', 'known', 'to', 'you', 'prior', 'to', 'disclosure', 'by', 'us', 'or']\n",
      "15\n",
      "2.2 was already known to you prior to disclosure by us; or\n",
      "['has', 'been', 'received', 'by', 'you', 'from', 'a', 'third', 'party', 'who', 'did', 'not', 'to', 'your', 'knowledge', 'acquire', 'it', 'in', 'confidence', 'from', 'us', 'or', 'from', 'someone', 'owing', 'a', 'duty', 'of', 'confidence', 'to', 'us']\n",
      "['return', 'of', 'the', 'protected', 'material']\n",
      "17\n",
      "3 RETURN OF THE PROTECTED MATERIAL\n",
      "['you', 'will', 'whenever', 'we', 'so', 'request', 'return', 'to', 'us', 'all', 'documents', 'and', 'other', 'records', 'of', 'the', 'protected', 'material', 'or', 'any', 'of', 'it', 'in', 'any', 'form', 'and', 'whether', 'or', 'not', 'such', 'document', 'or', 'other', 'record', 'was', 'itself', 'provided', 'by', 'us']\n",
      "['governing', 'law']\n",
      "19\n",
      "4 GOVERNING LAW\n",
      "['this', 'letter', 'and', 'any', 'dispute', 'or', 'claim', 'arising', 'out', 'of', 'or', 'in', 'connection', 'with', 'it', 'or', 'its', 'subject', 'matter', 'or', 'formation', 'shall', 'be', 'governed', 'by', 'and', 'construed', 'in', 'accordance', 'with', 'the', 'law', 'of', 'england', 'and', 'wales', 'we', 'each', 'irrevocably', 'agree', 'that', 'the', 'courts', 'of', 'england', 'and', 'wales', 'shall', 'have', 'exclusive', 'jurisdiction', 'to', 'settle', 'any', 'dispute', 'or', 'claim', 'arising', 'out', 'of', 'or', 'in', 'connection', 'with', 'this', 'letter', 'or', 'its', 'subject', 'matter', 'or', 'formation']\n",
      "['yours', 'faithfully']\n",
      "[]\n",
      "['name', 'of', 'test', 'co', 'signatory']\n",
      "['i', 'hereby', 'acknowledge', 'receipt', 'and', 'accept', 'the', 'contents', 'of', 'this', 'letter']\n",
      "['signed']\n",
      "['name', 'of', 'recipient']\n"
     ]
    }
   ],
   "source": [
    "import re\n",
    "word = re.compile(r\"\\w+\")\n",
    "\n",
    "def tokenize(text):\n",
    "    text = text.lower()\n",
    "    tokens = word.findall(text)\n",
    "    tokens = [t for t in tokens if t.isalpha()]\n",
    "    return tokens\n",
    "\n",
    "def mod_jaccard_similarity(list1, list2):\n",
    "    s1 = set(list1)\n",
    "    s2 = set(list2)\n",
    "    return float(len(s1.intersection(s2)) / max(len(s1),1))\n",
    "\n",
    "    \n",
    "l1={'p_id': 0, 'p_text': '', 'p_start_offset': 0}\n",
    "for item in parsed.data:\n",
    "    l2_text = item[\"p_text\"]\n",
    "    l2 = tokenize(item[\"p_text\"])\n",
    "    print(l1)\n",
    "    if mod_jaccard_similarity(l1, l2)>0.33:        \n",
    "#         print(l1, l2, mod_jaccard_similarity(l1, l2))        \n",
    "        print(item[\"p_id\"]-1)\n",
    "        print(l1_text)\n",
    "#         print(\"\\n\")\n",
    "    l1 = l2\n",
    "    l1_text = l2_text\n",
    "    "
   ]
  },
  {
   "cell_type": "code",
   "execution_count": 45,
   "metadata": {},
   "outputs": [
    {
     "data": {
      "text/plain": [
       "[5, 12, 17, 19]"
      ]
     },
     "execution_count": 45,
     "metadata": {},
     "output_type": "execute_result"
    }
   ],
   "source": [
    "import sys\n",
    "sys.path.append(\"..\")\n",
    "# sys.path.insert(0, '/path/to/application/app/folder')\n",
    "from src.parser import Parser\n",
    "filepath = \"/Users/lievgarcia/Documents/nlp specialisation/header_extractor/document-headers/files/letter.json\"\n",
    "# filepath = \"/Users/lievgarcia/Documents/nlp specialisation/header_extractor/document-headers/files/nda.json\"\n",
    "parsed = Parser(filepath)\n",
    "parsed.headers_indices"
   ]
  },
  {
   "cell_type": "code",
   "execution_count": null,
   "metadata": {},
   "outputs": [],
   "source": [
    "1, 0.33, 1, 0.5"
   ]
  }
 ],
 "metadata": {
  "kernelspec": {
   "display_name": "header_extractor",
   "language": "python",
   "name": "header_extractor"
  },
  "language_info": {
   "codemirror_mode": {
    "name": "ipython",
    "version": 3
   },
   "file_extension": ".py",
   "mimetype": "text/x-python",
   "name": "python",
   "nbconvert_exporter": "python",
   "pygments_lexer": "ipython3",
   "version": "3.6.7"
  }
 },
 "nbformat": 4,
 "nbformat_minor": 4
}
