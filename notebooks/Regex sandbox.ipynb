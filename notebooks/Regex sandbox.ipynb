{
 "cells": [
  {
   "cell_type": "code",
   "execution_count": 1,
   "metadata": {},
   "outputs": [],
   "source": [
    "import sys\n",
    "sys.path.append(\"..\")\n",
    "# sys.path.insert(0, '/path/to/application/app/folder')\n",
    "from src.parser import Parser"
   ]
  },
  {
   "cell_type": "code",
   "execution_count": 2,
   "metadata": {},
   "outputs": [],
   "source": [
    "filepath = \"/Users/lievgarcia/Documents/nlp specialisation/header_extractor/reference-files/letter.json\"\n",
    "parsed = Parser(filepath)"
   ]
  },
  {
   "cell_type": "code",
   "execution_count": 3,
   "metadata": {
    "scrolled": true
   },
   "outputs": [
    {
     "name": "stdout",
     "output_type": "stream",
     "text": [
      "None\n",
      "None\n",
      "None\n",
      "Dear [●], <_sre.SRE_Match object; span=(0, 1), match='D'>\n",
      "<_sre.SRE_Match object; span=(0, 1), match='D'>\n",
      "None\n",
      "None\n",
      "None\n",
      "None\n",
      "None\n",
      "None\n",
      "None\n",
      "None\n",
      "None\n",
      "The obligations set out in paragraph 1 shall not apply, or shall cease to apply, to such of the Protected Material as you can show to our reasonable satisfaction: <_sre.SRE_Match object; span=(0, 1), match='T'>\n",
      "<_sre.SRE_Match object; span=(0, 1), match='T'>\n",
      "None\n",
      "None\n",
      "None\n",
      "None\n",
      "You will, whenever we so request, return to us all documents and other records of the Protected Material or any of it in any form and whether or not such document or other record was itself provided by us. <_sre.SRE_Match object; span=(0, 1), match='Y'>\n",
      "<_sre.SRE_Match object; span=(0, 1), match='Y'>\n",
      "None\n",
      "This letter and any dispute or claim arising out of or in connection with it or its subject matter or formation shall be governed by and construed in accordance with the law of England and Wales. We each irrevocably agree that the courts of England and Wales shall have exclusive jurisdiction to settle any dispute or claim arising out of or in connection with this letter or its subject matter or formation. <_sre.SRE_Match object; span=(0, 1), match='T'>\n",
      "<_sre.SRE_Match object; span=(0, 1), match='T'>\n",
      "Yours faithfully, <_sre.SRE_Match object; span=(0, 1), match='Y'>\n",
      "<_sre.SRE_Match object; span=(0, 1), match='Y'>\n",
      "None\n",
      "None\n",
      "I hereby acknowledge receipt and accept the contents of this letter <_sre.SRE_Match object; span=(0, 1), match='I'>\n",
      "<_sre.SRE_Match object; span=(0, 1), match='I'>\n",
      "Signed ..................................................... <_sre.SRE_Match object; span=(0, 1), match='S'>\n",
      "<_sre.SRE_Match object; span=(0, 1), match='S'>\n",
      "None\n",
      "Date ........................................................ <_sre.SRE_Match object; span=(0, 1), match='D'>\n",
      "<_sre.SRE_Match object; span=(0, 1), match='D'>\n"
     ]
    }
   ],
   "source": [
    "import re\n",
    "for item in parsed.data:\n",
    "#     m = re.match(\"\\d [A-Z\\ ]\", item[\"p_text\"])\n",
    "    m = re.match(\"[A-Z]+\", item[\"p_text\"])\n",
    "    if m:\n",
    "        print(item[\"p_text\"], m)\n",
    "        \n",
    "    print(m)    "
   ]
  },
  {
   "cell_type": "code",
   "execution_count": 35,
   "metadata": {},
   "outputs": [
    {
     "name": "stdout",
     "output_type": "stream",
     "text": [
      "<_sre.SRE_Match object; span=(0, 12), match='1 DISCLOSURE'>\n"
     ]
    }
   ],
   "source": [
    "text = \"1 DISCLOSURE\"\n",
    "m = re.match(\"\\d [A-Z]+\", text)\n",
    "print(m)"
   ]
  },
  {
   "cell_type": "code",
   "execution_count": 7,
   "metadata": {},
   "outputs": [
    {
     "data": {
      "text/plain": [
       "[{'pattern': '\\\\d [A-Z]+'}]"
      ]
     },
     "execution_count": 7,
     "metadata": {},
     "output_type": "execute_result"
    }
   ],
   "source": [
    "from src.config import config\n",
    "config.regex"
   ]
  },
  {
   "cell_type": "code",
   "execution_count": 14,
   "metadata": {
    "scrolled": true
   },
   "outputs": [
    {
     "name": "stdout",
     "output_type": "stream",
     "text": [
      "NON-DISCLOSURE AGREEMENT <_sre.SRE_Match object; span=(0, 24), match='NON-DISCLOSURE AGREEMENT'>\n"
     ]
    }
   ],
   "source": [
    "import re \n",
    "from src.config import config\n",
    "\n",
    "patterns = \"|\".join([r[\"pattern\"] for r in config.regex])\n",
    "patterns = \"[A-Z][A-Z \\-]+$|\\d+. [A-Z][a-zA-Z :]+$\"\n",
    "\n",
    "# filepath = \"/Users/lievgarcia/Documents/nlp specialisation/header_extractor/reference-files/letter.json\"\n",
    "filepath = \"/Users/lievgarcia/Documents/nlp specialisation/header_extractor/reference-files/nda.json\"\n",
    "parsed = Parser(filepath)\n",
    "\n",
    "\n",
    "\n",
    "for item in parsed.data:    \n",
    "    m = re.match(patterns, item[\"p_text\"])\n",
    "    if m:\n",
    "        print(item[\"p_text\"], m)\n",
    "        break\n",
    "        \n",
    "#     print(item)"
   ]
  },
  {
   "cell_type": "code",
   "execution_count": 13,
   "metadata": {},
   "outputs": [],
   "source": [
    "# filepath = \"/Users/lievgarcia/Documents/nlp specialisation/header_extractor/reference-files/nda.json\"\n",
    "# parsed = Parser(filepath)"
   ]
  },
  {
   "cell_type": "code",
   "execution_count": 3,
   "metadata": {
    "scrolled": true
   },
   "outputs": [
    {
     "data": {
      "text/plain": [
       "'\\\\d+ [A-Z ]+|\\x08[A-Z][A-Z \\\\-]+$|\\\\d+. [A-Z][a-zA-Z ]+'"
      ]
     },
     "execution_count": 3,
     "metadata": {},
     "output_type": "execute_result"
    }
   ],
   "source": [
    "patterns"
   ]
  },
  {
   "cell_type": "code",
   "execution_count": 12,
   "metadata": {},
   "outputs": [
    {
     "data": {
      "text/plain": [
       "<_sre.SRE_Match object; span=(0, 24), match='NON-DISCLOSURE AGREEMENT'>"
      ]
     },
     "execution_count": 12,
     "metadata": {},
     "output_type": "execute_result"
    }
   ],
   "source": [
    "re.match(\"[A-Z][A-Z \\-]+$\", parsed.data[0][\"p_text\"])"
   ]
  },
  {
   "cell_type": "code",
   "execution_count": 15,
   "metadata": {},
   "outputs": [
    {
     "data": {
      "text/plain": [
       "<_sre.SRE_Match object; span=(0, 24), match='NON-DISCLOSURE AGREEMENT'>"
      ]
     },
     "execution_count": 15,
     "metadata": {},
     "output_type": "execute_result"
    }
   ],
   "source": [
    "m"
   ]
  },
  {
   "cell_type": "code",
   "execution_count": 4,
   "metadata": {},
   "outputs": [],
   "source": [
    "import sys\n",
    "sys.path.append(\"..\")\n",
    "# sys.path.insert(0, '/path/to/application/app/folder')\n",
    "from src.parser import Parser\n",
    "filepath = \"/Users/lievgarcia/Documents/nlp specialisation/header_extractor/reference-files/letter.json\"\n",
    "# filepath = \"/Users/lievgarcia/Documents/nlp specialisation/header_extractor/reference-files/nda.json\"\n",
    "parsed = Parser(filepath)\n"
   ]
  },
  {
   "cell_type": "code",
   "execution_count": 6,
   "metadata": {},
   "outputs": [
    {
     "data": {
      "text/plain": [
       "['1 DISCLOSURE',\n",
       " '2 LIMITATIONS ON OBLIGATIONS',\n",
       " '3 RETURN OF THE PROTECTED MATERIAL',\n",
       " '4 GOVERNING LAW']"
      ]
     },
     "execution_count": 6,
     "metadata": {},
     "output_type": "execute_result"
    }
   ],
   "source": [
    "parsed.headers_text"
   ]
  },
  {
   "cell_type": "code",
   "execution_count": null,
   "metadata": {},
   "outputs": [],
   "source": []
  }
 ],
 "metadata": {
  "kernelspec": {
   "display_name": "header_extractor",
   "language": "python",
   "name": "header_extractor"
  },
  "language_info": {
   "codemirror_mode": {
    "name": "ipython",
    "version": 3
   },
   "file_extension": ".py",
   "mimetype": "text/x-python",
   "name": "python",
   "nbconvert_exporter": "python",
   "pygments_lexer": "ipython3",
   "version": "3.6.7"
  }
 },
 "nbformat": 4,
 "nbformat_minor": 4
}
